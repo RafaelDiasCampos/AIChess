{
 "cells": [
  {
   "cell_type": "markdown",
   "metadata": {},
   "source": [
    "# AIChess\n",
    "## Training a Neural Network Model to evaluate positions in a game of Chess"
   ]
  },
  {
   "cell_type": "markdown",
   "metadata": {},
   "source": [
    "### Step 1: Download a Chess databse from the Internet"
   ]
  },
  {
   "cell_type": "markdown",
   "metadata": {},
   "source": [
    "First we install the required libraries and test if TensorFlow can detect our GPU. This will be very important later when training the model."
   ]
  },
  {
   "cell_type": "code",
   "execution_count": null,
   "metadata": {},
   "outputs": [],
   "source": [
    "!pip3 install zstandard pandas numpy matplotlib seaborn stockfish tensorflow"
   ]
  },
  {
   "cell_type": "code",
   "execution_count": 3,
   "metadata": {},
   "outputs": [
    {
     "name": "stdout",
     "output_type": "stream",
     "text": [
      "[PhysicalDevice(name='/physical_device:GPU:0', device_type='GPU')]\n"
     ]
    }
   ],
   "source": [
    "import tensorflow as tf\n",
    "print(tf.config.list_physical_devices('GPU'))"
   ]
  },
  {
   "cell_type": "markdown",
   "metadata": {},
   "source": [
    "Then we download the database from the Internet. In this case, we are using the Lichess puzzle database, because it includes many complex and unique positions."
   ]
  },
  {
   "cell_type": "code",
   "execution_count": null,
   "metadata": {},
   "outputs": [],
   "source": [
    "import requests\n",
    "import zstandard as zstd\n",
    "import os\n",
    "\n",
    "URL = \"https://database.lichess.org/lichess_db_puzzle.csv.zst\"\n",
    "data_dir = \"data\"\n",
    "\n",
    "def download_file(url):\n",
    "    local_filename = url.split('/')[-1]\n",
    "    local_filename = os.path.join(data_dir, local_filename)\n",
    "    # NOTE the stream=True parameter below\n",
    "    with requests.get(url, stream=True) as r:\n",
    "        r.raise_for_status()\n",
    "        with open(local_filename, 'wb') as f:\n",
    "            for chunk in r.iter_content(chunk_size=8192): \n",
    "                # If you have chunk encoded response uncomment if\n",
    "                # and set chunk_size parameter to None.\n",
    "                #if chunk: \n",
    "                f.write(chunk)\n",
    "    return local_filename\n",
    "\n",
    "def decompress_file(filename):\n",
    "    cctx = zstd.ZstdDecompressor()\n",
    "    with open(filename, 'rb') as f:\n",
    "        with open(filename[:-4], 'wb') as fout:\n",
    "            dctx = cctx.stream_reader(f)\n",
    "            fout.write(dctx.read())\n",
    "\n",
    "filename = download_file(URL)\n",
    "decompress_file(filename)\n",
    "os.remove(filename)\n"
   ]
  },
  {
   "cell_type": "markdown",
   "metadata": {},
   "source": [
    "### Step 2: Analyze the database\n",
    "\n",
    "With the database in our hands, it's time to import it using pandas and analyze the data we have."
   ]
  },
  {
   "cell_type": "code",
   "execution_count": 1,
   "metadata": {},
   "outputs": [
    {
     "data": {
      "text/html": [
       "<div>\n",
       "<style scoped>\n",
       "    .dataframe tbody tr th:only-of-type {\n",
       "        vertical-align: middle;\n",
       "    }\n",
       "\n",
       "    .dataframe tbody tr th {\n",
       "        vertical-align: top;\n",
       "    }\n",
       "\n",
       "    .dataframe thead th {\n",
       "        text-align: right;\n",
       "    }\n",
       "</style>\n",
       "<table border=\"1\" class=\"dataframe\">\n",
       "  <thead>\n",
       "    <tr style=\"text-align: right;\">\n",
       "      <th></th>\n",
       "      <th>FEN</th>\n",
       "    </tr>\n",
       "    <tr>\n",
       "      <th>PuzzleId</th>\n",
       "      <th></th>\n",
       "    </tr>\n",
       "  </thead>\n",
       "  <tbody>\n",
       "    <tr>\n",
       "      <th>00008</th>\n",
       "      <td>r6k/pp2r2p/4Rp1Q/3p4/8/1N1P2R1/PqP2bPP/7K b - ...</td>\n",
       "    </tr>\n",
       "    <tr>\n",
       "      <th>0000D</th>\n",
       "      <td>5rk1/1p3ppp/pq3b2/8/8/1P1Q1N2/P4PPP/3R2K1 w - ...</td>\n",
       "    </tr>\n",
       "    <tr>\n",
       "      <th>0009B</th>\n",
       "      <td>r2qr1k1/b1p2ppp/pp4n1/P1P1p3/4P1n1/B2P2Pb/3NBP...</td>\n",
       "    </tr>\n",
       "    <tr>\n",
       "      <th>000Vc</th>\n",
       "      <td>8/8/4k1p1/2KpP2p/5PP1/8/8/8 w - - 0 53</td>\n",
       "    </tr>\n",
       "    <tr>\n",
       "      <th>000Zo</th>\n",
       "      <td>4r3/1k6/pp3r2/1b2P2p/3R1p2/P1R2P2/1P4PP/6K1 w ...</td>\n",
       "    </tr>\n",
       "  </tbody>\n",
       "</table>\n",
       "</div>"
      ],
      "text/plain": [
       "                                                        FEN\n",
       "PuzzleId                                                   \n",
       "00008     r6k/pp2r2p/4Rp1Q/3p4/8/1N1P2R1/PqP2bPP/7K b - ...\n",
       "0000D     5rk1/1p3ppp/pq3b2/8/8/1P1Q1N2/P4PPP/3R2K1 w - ...\n",
       "0009B     r2qr1k1/b1p2ppp/pp4n1/P1P1p3/4P1n1/B2P2Pb/3NBP...\n",
       "000Vc                8/8/4k1p1/2KpP2p/5PP1/8/8/8 w - - 0 53\n",
       "000Zo     4r3/1k6/pp3r2/1b2P2p/3R1p2/P1R2P2/1P4PP/6K1 w ..."
      ]
     },
     "execution_count": 1,
     "metadata": {},
     "output_type": "execute_result"
    }
   ],
   "source": [
    "import pandas as pd\n",
    "import numpy as np\n",
    "\n",
    "data_dir = \"data\"\n",
    "df = pd.read_csv(os.path.join(data_dir, 'lichess_db_puzzle.csv'), \n",
    "                  header=None, \n",
    "                  delimiter=',', \n",
    "                  names=('PuzzleId', 'FEN','Moves','Rating','RatingDeviation','Popularity','NbPlays','Themes','GameUrl','OpeningFamily','OpeningVariation'),\n",
    "                  usecols=('PuzzleId', 'FEN')\n",
    "                 )\n",
    "df.set_index('PuzzleId', inplace=True)\n",
    "df.head()"
   ]
  },
  {
   "cell_type": "markdown",
   "metadata": {},
   "source": [
    "We can see that our database uses the FEN notation to write the board position. More about it can be found here: https://www.chess.com/terms/fen-chess#how-does-fen-work "
   ]
  },
  {
   "cell_type": "code",
   "execution_count": 5,
   "metadata": {},
   "outputs": [
    {
     "data": {
      "text/plain": [
       "3080529"
      ]
     },
     "execution_count": 5,
     "metadata": {},
     "output_type": "execute_result"
    }
   ],
   "source": [
    "df.size"
   ]
  },
  {
   "cell_type": "markdown",
   "metadata": {},
   "source": [
    "Our database has around 3 million positions. It would take a very long time to calculate the evaluations for all of them, so we will only use a sample of 330.000 puzzles.\n",
    "\n",
    "You should note that this will still take a long time (close to 30 hours in the machine used for this test)."
   ]
  },
  {
   "cell_type": "markdown",
   "metadata": {},
   "source": [
    "### Step 3: Calculate evaluation\n",
    "\n",
    "Our database only contains the positions, so we need to calculate the evaluation using Stockfish. This is done by using a chess engine to analyze each position.\n",
    "\n",
    "Make sure to download Stockfish from https://stockfishchess.org/download and change the path variable below accordingly."
   ]
  },
  {
   "cell_type": "code",
   "execution_count": null,
   "metadata": {},
   "outputs": [],
   "source": [
    "from stockfish import Stockfish\n",
    "import multiprocessing as mp\n",
    "\n",
    "path =  'bin/stockfish_15_x64_avx2.exe'\n",
    "sample_size = 5000\n",
    "n_imports = 100\n",
    "\n",
    "n_cores = mp.cpu_count()\n",
    "parameters = {\n",
    "    \"Threads\": n_cores-6,\n",
    "    \"Ponder\": \"false\",\n",
    "    \"Hash\": 1024*4\n",
    "}\n",
    "\n",
    "\n",
    "stockfish = Stockfish(path=path, parameters=parameters, depth=15)\n",
    "\n",
    "def get_eval(fen):    \n",
    "    stockfish.set_fen_position(fen)\n",
    "    return stockfish.get_evaluation()['value']\n",
    "\n",
    "def create_evaluations(sample_size):\n",
    "    if os.path.exists(os.path.join(data_dir, 'lichess_db_puzzle_sample.pkl')):\n",
    "        df_sample_old = pd.read_pickle(os.path.join(data_dir, 'lichess_db_puzzle_sample.pkl'))\n",
    "        df.drop(df_sample_old.index, inplace=True, errors='ignore')\n",
    "\n",
    "    df_sample = df.sample(sample_size, random_state=23)\n",
    "    df_sample['Eval'] = df_sample['FEN'].apply(get_eval)\n",
    "\n",
    "    if os.path.exists(os.path.join(data_dir, 'lichess_db_puzzle_sample.pkl')):\n",
    "        df_sample= pd.concat([df_sample_old, df_sample])\n",
    "\n",
    "    df_sample.to_pickle(os.path.join(data_dir, 'lichess_db_puzzle_sample.pkl'))\n",
    "    \n",
    "for i in range(n_imports):\n",
    "    create_evaluations(sample_size)\n",
    "    print(f'Finished creating evaluations for {(i+1)*sample_size} positions.')"
   ]
  },
  {
   "cell_type": "markdown",
   "metadata": {},
   "source": [
    "### Step 4: Preprocess the data\n",
    "Before initializing our machine learning method, we first need to do some preprocessing. In particular, we have to change the `FEN` field to another type of encoding that uses the same number of characters for every position, so we can easily input it in our neural network.\n",
    "\n",
    "In the new representation, we use 64 characters to indicate the pieces on the board, with `1` representing a white pawn, `2` a white knight, `3` a white bishop, `4` a white rook, `5` a white queen and `6` a white king. Black pieces follow the same pattern but use negative values, and a blank square is represented by a `0`. In order to simplify the learning process, we can only calculate moves for white. To do this, we vertically flip the board if the next player was black, and mulitply all piece values by `-1`. In order to keep the evaluations consistent, we also multiply the `Eval` column by `-1` if the player to move is black.\n",
    "\n",
    "It's important to note here that our representation is incomplete. It does not indicate available castle moves for each player, possible en passant targets, or halfmove clock. This information was originally available in the `FEN` representation, but to simplify our model we removed it."
   ]
  },
  {
   "cell_type": "code",
   "execution_count": 46,
   "metadata": {},
   "outputs": [
    {
     "data": {
      "text/html": [
       "<div>\n",
       "<style scoped>\n",
       "    .dataframe tbody tr th:only-of-type {\n",
       "        vertical-align: middle;\n",
       "    }\n",
       "\n",
       "    .dataframe tbody tr th {\n",
       "        vertical-align: top;\n",
       "    }\n",
       "\n",
       "    .dataframe thead th {\n",
       "        text-align: right;\n",
       "    }\n",
       "</style>\n",
       "<table border=\"1\" class=\"dataframe\">\n",
       "  <thead>\n",
       "    <tr style=\"text-align: right;\">\n",
       "      <th></th>\n",
       "      <th>FEN</th>\n",
       "      <th>Eval</th>\n",
       "      <th>Board</th>\n",
       "    </tr>\n",
       "    <tr>\n",
       "      <th>PuzzleId</th>\n",
       "      <th></th>\n",
       "      <th></th>\n",
       "      <th></th>\n",
       "    </tr>\n",
       "  </thead>\n",
       "  <tbody>\n",
       "    <tr>\n",
       "      <th>1gVtG</th>\n",
       "      <td>4Q1k1/2p4p/3bb3/4pr2/8/1P1Pq3/r5PP/2R2R1K b - ...</td>\n",
       "      <td>1.0</td>\n",
       "      <td>[[0, 0, 4, 0, 0, 4, 0, 6], [-4, 0, 0, 0, 0, 0,...</td>\n",
       "    </tr>\n",
       "    <tr>\n",
       "      <th>hIFlt</th>\n",
       "      <td>2r1B1k1/1p3ppp/1b3P2/p7/P3P1P1/B1q4P/1K1N4/3Q3...</td>\n",
       "      <td>1.0</td>\n",
       "      <td>[[0, 0, 4, 0, -3, 0, 6, 0], [0, 1, 0, 0, 0, 1,...</td>\n",
       "    </tr>\n",
       "    <tr>\n",
       "      <th>5UoM7</th>\n",
       "      <td>1kn5/1p6/2p2p2/5P2/1Q2pqP1/P2R1B2/1Pr5/1K6 w -...</td>\n",
       "      <td>1.0</td>\n",
       "      <td>[[0, 6, 2, 0, 0, 0, 0, 0], [0, 1, 0, 0, 0, 0, ...</td>\n",
       "    </tr>\n",
       "    <tr>\n",
       "      <th>j1gxA</th>\n",
       "      <td>r3kb1r/pp3pp1/2n1pnp1/1N6/2BP1P2/7P/PP4P1/R1B2...</td>\n",
       "      <td>1.0</td>\n",
       "      <td>[[4, 0, 3, 0, 0, 4, 6, 0], [1, 1, 0, 0, 0, 0, ...</td>\n",
       "    </tr>\n",
       "    <tr>\n",
       "      <th>m9Vnd</th>\n",
       "      <td>2kn3r/1ppb2p1/p3p3/1PPpP1q1/3N4/2PB2np/P6P/R2Q...</td>\n",
       "      <td>-1.0</td>\n",
       "      <td>[[0, 0, 6, 2, 0, 0, 0, 4], [0, 1, 1, 3, 0, 0, ...</td>\n",
       "    </tr>\n",
       "  </tbody>\n",
       "</table>\n",
       "</div>"
      ],
      "text/plain": [
       "                                                        FEN  Eval  \\\n",
       "PuzzleId                                                            \n",
       "1gVtG     4Q1k1/2p4p/3bb3/4pr2/8/1P1Pq3/r5PP/2R2R1K b - ...   1.0   \n",
       "hIFlt     2r1B1k1/1p3ppp/1b3P2/p7/P3P1P1/B1q4P/1K1N4/3Q3...   1.0   \n",
       "5UoM7     1kn5/1p6/2p2p2/5P2/1Q2pqP1/P2R1B2/1Pr5/1K6 w -...   1.0   \n",
       "j1gxA     r3kb1r/pp3pp1/2n1pnp1/1N6/2BP1P2/7P/PP4P1/R1B2...   1.0   \n",
       "m9Vnd     2kn3r/1ppb2p1/p3p3/1PPpP1q1/3N4/2PB2np/P6P/R2Q...  -1.0   \n",
       "\n",
       "                                                      Board  \n",
       "PuzzleId                                                     \n",
       "1gVtG     [[0, 0, 4, 0, 0, 4, 0, 6], [-4, 0, 0, 0, 0, 0,...  \n",
       "hIFlt     [[0, 0, 4, 0, -3, 0, 6, 0], [0, 1, 0, 0, 0, 1,...  \n",
       "5UoM7     [[0, 6, 2, 0, 0, 0, 0, 0], [0, 1, 0, 0, 0, 0, ...  \n",
       "j1gxA     [[4, 0, 3, 0, 0, 4, 6, 0], [1, 1, 0, 0, 0, 0, ...  \n",
       "m9Vnd     [[0, 0, 6, 2, 0, 0, 0, 4], [0, 1, 1, 3, 0, 0, ...  "
      ]
     },
     "execution_count": 46,
     "metadata": {},
     "output_type": "execute_result"
    }
   ],
   "source": [
    "df_sample = pd.read_pickle(os.path.join(data_dir, 'lichess_db_puzzle_sample.pkl'))\n",
    "\n",
    "piece_to_int = {\n",
    "    'p': 1,\n",
    "    'n': 2,\n",
    "    'b': 3,\n",
    "    'r': 4,\n",
    "    'q': 5,\n",
    "    'k': 6,\n",
    "    'P': -1,\n",
    "    'N': -2,\n",
    "    'B': -3,\n",
    "    'R': -4,\n",
    "    'Q': -5,\n",
    "    'K': -6\n",
    "}\n",
    "\n",
    "def fen_to_board(fen):\n",
    "    fen = fen.split(' ')\n",
    "    board = np.zeros((8,8), dtype=np.int8)\n",
    "    position, next_player = (fen[0], fen[1])\n",
    "    i = 0\n",
    "    for p in position:\n",
    "        if p.isdigit():\n",
    "            i += int(p)\n",
    "        elif p.isalpha():\n",
    "            if next_player == 'b':\n",
    "                board[7-i//8, i%8] = piece_to_int[p]\n",
    "            else:\n",
    "                board[i//8, i%8] = piece_to_int[p]                \n",
    "            i += 1    \n",
    "    if next_player == 'b':\n",
    "        board = -board\n",
    "    return board\n",
    "\n",
    "\n",
    "df_sample['Board'] = df_sample['FEN'].apply(fen_to_board)\n",
    "\n",
    "for idx in df_sample.index:\n",
    "    fen = df_sample.loc[idx, 'FEN']\n",
    "    next_player = fen.split(' ')[1]\n",
    "    if next_player == 'b':\n",
    "        df_sample.loc[idx, 'Eval'] = -df_sample.loc[idx, 'Eval']\n",
    "\n",
    "df_sample.to_pickle(os.path.join(data_dir, 'lichess_db_puzzle_sample.pkl'))\n",
    "df_sample.head()"
   ]
  },
  {
   "cell_type": "markdown",
   "metadata": {},
   "source": [
    "Also, it's useful to define maximum and minimum values for the evaluation. In chess, an advantage of 1 point corresponds to a pawn, 3 points to a bishop or a knight, 5 points to a rook and 9 points to a queen.\n",
    "\n",
    "Having an advantage of, for example, 10 points gives the player an almost guaranteed win unless they make a huge blunder, so for this project there's not much need to store values greater than 10, and the same logic applies to having a disadvantage of 10 points. In fact, keeping large values such as -1007 or 555 should only make it harder for our model, while not providing any actual improvement in the results. Lastly, we "
   ]
  },
  {
   "cell_type": "code",
   "execution_count": 4,
   "metadata": {},
   "outputs": [
    {
     "data": {
      "text/html": [
       "<div>\n",
       "<style scoped>\n",
       "    .dataframe tbody tr th:only-of-type {\n",
       "        vertical-align: middle;\n",
       "    }\n",
       "\n",
       "    .dataframe tbody tr th {\n",
       "        vertical-align: top;\n",
       "    }\n",
       "\n",
       "    .dataframe thead th {\n",
       "        text-align: right;\n",
       "    }\n",
       "</style>\n",
       "<table border=\"1\" class=\"dataframe\">\n",
       "  <thead>\n",
       "    <tr style=\"text-align: right;\">\n",
       "      <th></th>\n",
       "      <th>FEN</th>\n",
       "      <th>Eval</th>\n",
       "      <th>Board</th>\n",
       "    </tr>\n",
       "    <tr>\n",
       "      <th>PuzzleId</th>\n",
       "      <th></th>\n",
       "      <th></th>\n",
       "      <th></th>\n",
       "    </tr>\n",
       "  </thead>\n",
       "  <tbody>\n",
       "    <tr>\n",
       "      <th>1gVtG</th>\n",
       "      <td>4Q1k1/2p4p/3bb3/4pr2/8/1P1Pq3/r5PP/2R2R1K b - ...</td>\n",
       "      <td>-10</td>\n",
       "      <td>....Q.k...p....p...bb.......pr...........P.Pq....</td>\n",
       "    </tr>\n",
       "    <tr>\n",
       "      <th>hIFlt</th>\n",
       "      <td>2r1B1k1/1p3ppp/1b3P2/p7/P3P1P1/B1q4P/1K1N4/3Q3...</td>\n",
       "      <td>10</td>\n",
       "      <td>..r.B.k..p...ppp.b...P..p.......P...P.P.B.q......</td>\n",
       "    </tr>\n",
       "    <tr>\n",
       "      <th>5UoM7</th>\n",
       "      <td>1kn5/1p6/2p2p2/5P2/1Q2pqP1/P2R1B2/1Pr5/1K6 w -...</td>\n",
       "      <td>10</td>\n",
       "      <td>.kn......p........p..p.......P...Q..pqP.P..R.B...</td>\n",
       "    </tr>\n",
       "    <tr>\n",
       "      <th>j1gxA</th>\n",
       "      <td>r3kb1r/pp3pp1/2n1pnp1/1N6/2BP1P2/7P/PP4P1/R1B2...</td>\n",
       "      <td>-10</td>\n",
       "      <td>r...kb.rpp...pp...n.pnp..N........BP.P...........</td>\n",
       "    </tr>\n",
       "    <tr>\n",
       "      <th>m9Vnd</th>\n",
       "      <td>2kn3r/1ppb2p1/p3p3/1PPpP1q1/3N4/2PB2np/P6P/R2Q...</td>\n",
       "      <td>-10</td>\n",
       "      <td>..kn...r.ppb..p.p...p....PPpP.q....N......PB.....</td>\n",
       "    </tr>\n",
       "  </tbody>\n",
       "</table>\n",
       "</div>"
      ],
      "text/plain": [
       "                                                        FEN  Eval  \\\n",
       "PuzzleId                                                            \n",
       "1gVtG     4Q1k1/2p4p/3bb3/4pr2/8/1P1Pq3/r5PP/2R2R1K b - ...   -10   \n",
       "hIFlt     2r1B1k1/1p3ppp/1b3P2/p7/P3P1P1/B1q4P/1K1N4/3Q3...    10   \n",
       "5UoM7     1kn5/1p6/2p2p2/5P2/1Q2pqP1/P2R1B2/1Pr5/1K6 w -...    10   \n",
       "j1gxA     r3kb1r/pp3pp1/2n1pnp1/1N6/2BP1P2/7P/PP4P1/R1B2...   -10   \n",
       "m9Vnd     2kn3r/1ppb2p1/p3p3/1PPpP1q1/3N4/2PB2np/P6P/R2Q...   -10   \n",
       "\n",
       "                                                      Board  \n",
       "PuzzleId                                                     \n",
       "1gVtG     ....Q.k...p....p...bb.......pr...........P.Pq....  \n",
       "hIFlt     ..r.B.k..p...ppp.b...P..p.......P...P.P.B.q......  \n",
       "5UoM7     .kn......p........p..p.......P...Q..pqP.P..R.B...  \n",
       "j1gxA     r...kb.rpp...pp...n.pnp..N........BP.P...........  \n",
       "m9Vnd     ..kn...r.ppb..p.p...p....PPpP.q....N......PB.....  "
      ]
     },
     "execution_count": 4,
     "metadata": {},
     "output_type": "execute_result"
    }
   ],
   "source": [
    "df_sample = pd.read_pickle(os.path.join(data_dir, 'lichess_db_puzzle_sample.pkl'))\n",
    "\n",
    "df_sample['Eval'] = df_sample['Eval'].apply(lambda x: max(min(x, 10), -10))\n",
    "\n",
    "df_sample.to_pickle(os.path.join(data_dir, 'lichess_db_puzzle_sample.pkl'))\n",
    "df_sample.head()"
   ]
  },
  {
   "cell_type": "markdown",
   "metadata": {},
   "source": [
    "Lastly, we divide the `Eval` column by 10, so our values will stay between -1 and 1. This will help train the neural network later because the `tanh` function can only output between those two values. If we later want to find the real evaluation of the position, we can just multiply it by 10."
   ]
  },
  {
   "cell_type": "code",
   "execution_count": 48,
   "metadata": {},
   "outputs": [
    {
     "data": {
      "text/html": [
       "<div>\n",
       "<style scoped>\n",
       "    .dataframe tbody tr th:only-of-type {\n",
       "        vertical-align: middle;\n",
       "    }\n",
       "\n",
       "    .dataframe tbody tr th {\n",
       "        vertical-align: top;\n",
       "    }\n",
       "\n",
       "    .dataframe thead th {\n",
       "        text-align: right;\n",
       "    }\n",
       "</style>\n",
       "<table border=\"1\" class=\"dataframe\">\n",
       "  <thead>\n",
       "    <tr style=\"text-align: right;\">\n",
       "      <th></th>\n",
       "      <th>FEN</th>\n",
       "      <th>Eval</th>\n",
       "      <th>Board</th>\n",
       "    </tr>\n",
       "    <tr>\n",
       "      <th>PuzzleId</th>\n",
       "      <th></th>\n",
       "      <th></th>\n",
       "      <th></th>\n",
       "    </tr>\n",
       "  </thead>\n",
       "  <tbody>\n",
       "    <tr>\n",
       "      <th>1gVtG</th>\n",
       "      <td>4Q1k1/2p4p/3bb3/4pr2/8/1P1Pq3/r5PP/2R2R1K b - ...</td>\n",
       "      <td>1.0</td>\n",
       "      <td>[[0, 0, 4, 0, 0, 4, 0, 6], [-4, 0, 0, 0, 0, 0,...</td>\n",
       "    </tr>\n",
       "    <tr>\n",
       "      <th>hIFlt</th>\n",
       "      <td>2r1B1k1/1p3ppp/1b3P2/p7/P3P1P1/B1q4P/1K1N4/3Q3...</td>\n",
       "      <td>1.0</td>\n",
       "      <td>[[0, 0, 4, 0, -3, 0, 6, 0], [0, 1, 0, 0, 0, 1,...</td>\n",
       "    </tr>\n",
       "    <tr>\n",
       "      <th>5UoM7</th>\n",
       "      <td>1kn5/1p6/2p2p2/5P2/1Q2pqP1/P2R1B2/1Pr5/1K6 w -...</td>\n",
       "      <td>1.0</td>\n",
       "      <td>[[0, 6, 2, 0, 0, 0, 0, 0], [0, 1, 0, 0, 0, 0, ...</td>\n",
       "    </tr>\n",
       "    <tr>\n",
       "      <th>j1gxA</th>\n",
       "      <td>r3kb1r/pp3pp1/2n1pnp1/1N6/2BP1P2/7P/PP4P1/R1B2...</td>\n",
       "      <td>1.0</td>\n",
       "      <td>[[4, 0, 3, 0, 0, 4, 6, 0], [1, 1, 0, 0, 0, 0, ...</td>\n",
       "    </tr>\n",
       "    <tr>\n",
       "      <th>m9Vnd</th>\n",
       "      <td>2kn3r/1ppb2p1/p3p3/1PPpP1q1/3N4/2PB2np/P6P/R2Q...</td>\n",
       "      <td>-1.0</td>\n",
       "      <td>[[0, 0, 6, 2, 0, 0, 0, 4], [0, 1, 1, 3, 0, 0, ...</td>\n",
       "    </tr>\n",
       "  </tbody>\n",
       "</table>\n",
       "</div>"
      ],
      "text/plain": [
       "                                                        FEN  Eval  \\\n",
       "PuzzleId                                                            \n",
       "1gVtG     4Q1k1/2p4p/3bb3/4pr2/8/1P1Pq3/r5PP/2R2R1K b - ...   1.0   \n",
       "hIFlt     2r1B1k1/1p3ppp/1b3P2/p7/P3P1P1/B1q4P/1K1N4/3Q3...   1.0   \n",
       "5UoM7     1kn5/1p6/2p2p2/5P2/1Q2pqP1/P2R1B2/1Pr5/1K6 w -...   1.0   \n",
       "j1gxA     r3kb1r/pp3pp1/2n1pnp1/1N6/2BP1P2/7P/PP4P1/R1B2...   1.0   \n",
       "m9Vnd     2kn3r/1ppb2p1/p3p3/1PPpP1q1/3N4/2PB2np/P6P/R2Q...  -1.0   \n",
       "\n",
       "                                                      Board  \n",
       "PuzzleId                                                     \n",
       "1gVtG     [[0, 0, 4, 0, 0, 4, 0, 6], [-4, 0, 0, 0, 0, 0,...  \n",
       "hIFlt     [[0, 0, 4, 0, -3, 0, 6, 0], [0, 1, 0, 0, 0, 1,...  \n",
       "5UoM7     [[0, 6, 2, 0, 0, 0, 0, 0], [0, 1, 0, 0, 0, 0, ...  \n",
       "j1gxA     [[4, 0, 3, 0, 0, 4, 6, 0], [1, 1, 0, 0, 0, 0, ...  \n",
       "m9Vnd     [[0, 0, 6, 2, 0, 0, 0, 4], [0, 1, 1, 3, 0, 0, ...  "
      ]
     },
     "execution_count": 48,
     "metadata": {},
     "output_type": "execute_result"
    }
   ],
   "source": [
    "df_sample['Eval'] = df_sample['Eval'].apply(lambda x: x/10)\n",
    "\n",
    "df_sample.to_pickle(os.path.join(data_dir, 'lichess_db_puzzle_sample.pkl'))\n",
    "df_sample.head()"
   ]
  },
  {
   "cell_type": "markdown",
   "metadata": {},
   "source": [
    "### Step 5: Divide our dataset into multiple partitions\n",
    "Now that our dataset is created and formatted properly, we can divide it into train and test partitions. We are separating 80% of the dataset to be used for training/validation and the rest for testing. We also convert the `Board` column to an array of integers, so we can input it in our model."
   ]
  },
  {
   "cell_type": "code",
   "execution_count": 1,
   "metadata": {},
   "outputs": [],
   "source": [
    "import pandas as pd\n",
    "import numpy as np\n",
    "import os\n",
    "\n",
    "data_dir = \"data\"\n",
    "df_sample = pd.read_pickle(os.path.join(data_dir, 'lichess_db_puzzle_sample.pkl'))\n",
    "\n",
    "df_train = df_sample.sample(frac=0.8, random_state=23)\n",
    "df_test = df_sample.drop(df_train.index)\n",
    "\n",
    "X_train = np.stack(df_train['Board'].values)\n",
    "y_train = df_train['Eval'].values\n",
    "\n",
    "X_test = np.stack(df_test['Board'].values)\n",
    "y_test = df_test['Eval'].values"
   ]
  },
  {
   "cell_type": "markdown",
   "metadata": {},
   "source": [
    "### Step 6: Create the model\n",
    "We can now create the model to be used for evaluating the positions. We will be using a 10 layers Deep Neural Network with 2048 neurons in each layer. We are also adding a 20% Dropout layer between every Dense layer. For the output, we will be using a `tanh` activation function to keep our results between -1 and 1."
   ]
  },
  {
   "cell_type": "code",
   "execution_count": 2,
   "metadata": {},
   "outputs": [
    {
     "name": "stdout",
     "output_type": "stream",
     "text": [
      "Model: \"sequential\"\n",
      "_________________________________________________________________\n",
      " Layer (type)                Output Shape              Param #   \n",
      "=================================================================\n",
      " flatten (Flatten)           (None, 64)                0         \n",
      "                                                                 \n",
      " dense (Dense)               (None, 2048)              133120    \n",
      "                                                                 \n",
      " dropout (Dropout)           (None, 2048)              0         \n",
      "                                                                 \n",
      " dense_1 (Dense)             (None, 2048)              4196352   \n",
      "                                                                 \n",
      " dropout_1 (Dropout)         (None, 2048)              0         \n",
      "                                                                 \n",
      " dense_2 (Dense)             (None, 2048)              4196352   \n",
      "                                                                 \n",
      " dropout_2 (Dropout)         (None, 2048)              0         \n",
      "                                                                 \n",
      " dense_3 (Dense)             (None, 2048)              4196352   \n",
      "                                                                 \n",
      " dropout_3 (Dropout)         (None, 2048)              0         \n",
      "                                                                 \n",
      " dense_4 (Dense)             (None, 2048)              4196352   \n",
      "                                                                 \n",
      " dropout_4 (Dropout)         (None, 2048)              0         \n",
      "                                                                 \n",
      " dense_5 (Dense)             (None, 2048)              4196352   \n",
      "                                                                 \n",
      " dropout_5 (Dropout)         (None, 2048)              0         \n",
      "                                                                 \n",
      " dense_6 (Dense)             (None, 2048)              4196352   \n",
      "                                                                 \n",
      " dropout_6 (Dropout)         (None, 2048)              0         \n",
      "                                                                 \n",
      " dense_7 (Dense)             (None, 2048)              4196352   \n",
      "                                                                 \n",
      " dropout_7 (Dropout)         (None, 2048)              0         \n",
      "                                                                 \n",
      " dense_8 (Dense)             (None, 2048)              4196352   \n",
      "                                                                 \n",
      " dropout_8 (Dropout)         (None, 2048)              0         \n",
      "                                                                 \n",
      " dense_9 (Dense)             (None, 2048)              4196352   \n",
      "                                                                 \n",
      " dropout_9 (Dropout)         (None, 2048)              0         \n",
      "                                                                 \n",
      " dense_10 (Dense)            (None, 1)                 2049      \n",
      "                                                                 \n",
      "=================================================================\n",
      "Total params: 37,902,337\n",
      "Trainable params: 37,902,337\n",
      "Non-trainable params: 0\n",
      "_________________________________________________________________\n"
     ]
    }
   ],
   "source": [
    "import tensorflow as tf\n",
    "\n",
    "layers = 10\n",
    "neurons = 2048\n",
    "dropout = 0.2\n",
    "optimizer = tf.keras.optimizers.Adam(learning_rate = 1e-6)\n",
    "\n",
    "model = tf.keras.models.Sequential()\n",
    "model.add(tf.keras.layers.Flatten(input_shape=(8,8)))\n",
    "\n",
    "for i in range(layers):\n",
    "    model.add(tf.keras.layers.Dense(neurons, activation='relu'))\n",
    "    model.add(tf.keras.layers.Dropout(dropout))\n",
    "\n",
    "model.add(tf.keras.layers.Dense(1, activation='tanh'))\n",
    "\n",
    "model.compile(optimizer=optimizer,\n",
    "                loss='mean_squared_error',\n",
    "                metrics=['mean_squared_error'])\n",
    "\n",
    "model.summary()"
   ]
  },
  {
   "cell_type": "markdown",
   "metadata": {},
   "source": [
    "### Step 7: Train the model\n",
    "We are ready to train the model and verify the results. We will be using 20% of the data for validation. A model checkpoint gets saved every few epochs. In total, the model was trained for around 10000 epochs."
   ]
  },
  {
   "cell_type": "code",
   "execution_count": 5,
   "metadata": {},
   "outputs": [
    {
     "name": "stdout",
     "output_type": "stream",
     "text": [
      "413/413 [==============================] - 10s 22ms/step - loss: 0.0100 - mean_squared_error: 0.0100 - val_loss: 0.8921 - val_mean_squared_error: 0.8921\n"
     ]
    }
   ],
   "source": [
    "import pickle\n",
    "from math import ceil\n",
    "\n",
    "batch_size = 256\n",
    "checkpoint_epochs = 60\n",
    "epochs = 2000\n",
    "\n",
    "checkpoint_path = \"models/cpp-{epoch:04d}.ckpt\"\n",
    "checkpoint_dir = os.path.dirname(checkpoint_path)\n",
    "\n",
    "cp_callback = tf.keras.callbacks.ModelCheckpoint(filepath=checkpoint_path,\n",
    "                                                 save_weights_only=True,\n",
    "                                                 verbose=1,\n",
    "                                                 save_freq=int( ceil(X_train.shape[0]*0.8/batch_size) * checkpoint_epochs))\n",
    "\n",
    "if os.path.exists(os.path.join('models', 'model.h5')):\n",
    "    model = tf.keras.models.load_model(os.path.join('models', 'model.h5'))\n",
    "    \n",
    "latest = tf.train.latest_checkpoint(checkpoint_dir)\n",
    "if latest:\n",
    "    model.load_weights(latest)\n",
    "\n",
    "model.fit(X_train, y_train, epochs=epochs, validation_split=0.2, shuffle=True, callbacks=[cp_callback],batch_size=batch_size)\n",
    "\n",
    "model.save(os.path.join('models/model.h5'))"
   ]
  },
  {
   "cell_type": "markdown",
   "metadata": {},
   "source": [
    "### Step 8: Evaluate the model\n",
    "\n",
    "Now that we trained our model, we can evaluate its ability to evaluate positions in our test partition. We should first notice that during the training our model obtained an MSE of 0.01, but our validation steps had an MSE of around 0.89, so this doesn't look promising."
   ]
  },
  {
   "cell_type": "code",
   "execution_count": 6,
   "metadata": {},
   "outputs": [
    {
     "name": "stdout",
     "output_type": "stream",
     "text": [
      "1032/1032 [==============================] - 7s 7ms/step - loss: 0.8988 - mean_squared_error: 0.8988\n",
      "Restored model, mean squared error: 0.8988\n",
      "Evaluation is wrong by 9.48 points\n"
     ]
    }
   ],
   "source": [
    "model = tf.keras.models.load_model(os.path.join('models/model.h5'))\n",
    "\n",
    "loss, mse = model.evaluate(X_test, y_test)\n",
    "\n",
    "print(f\"Restored model, mean squared error: {mse:.4f}\")\n",
    "\n",
    "error = 10 * (mse ** 0.5)\n",
    "\n",
    "print(f'Evaluation is wrong by {error:.2f} points')"
   ]
  },
  {
   "cell_type": "markdown",
   "metadata": {},
   "source": [
    "As was expected, our model wasn't able to generalize well enough, so it offers an acceptable result with the train data, but a very bad result with new data. We can conclude that our model indicates overfitting."
   ]
  },
  {
   "cell_type": "markdown",
   "metadata": {},
   "source": [
    "### Step 9: Conclusions\n",
    "\n",
    "Sadly, it wasn't possible to create a model that could accurately evaluate positions in a game of chess. The best model created showed a very drastic overfitting and was basically useless when used to evaluate new positions.\n",
    "\n",
    "We can conclude what should have been obvious from the start: Evaluating chess positions is a hard and complex problem. \n",
    "\n",
    "In order to obtain a good result, at least some steps below would be required:\n",
    "\n",
    "- Obtain more training data: While our original dataset contained around 3 million positions, we only used 330.000 for training the model. Obtaining more data would reduce the likelihood of overfitting.\n",
    "- Use a more complex network structure: It's possible that the network structure utilized simply isn't mathematically able of achieving a good result for this particular problem. So, by increasing the number of layers and/or the number of neurons, it would be able to achieve a better result.\n",
    "- Changing the data representation: There are probably better ways of representing a chess position in order to calculate its evaluation. By choosing a better representation, it could make simplify the model and allow for better results."
   ]
  }
 ],
 "metadata": {
  "kernelspec": {
   "display_name": "Python 3.10.8 ('AIChess')",
   "language": "python",
   "name": "python3"
  },
  "language_info": {
   "codemirror_mode": {
    "name": "ipython",
    "version": 3
   },
   "file_extension": ".py",
   "mimetype": "text/x-python",
   "name": "python",
   "nbconvert_exporter": "python",
   "pygments_lexer": "ipython3",
   "version": "3.10.8"
  },
  "orig_nbformat": 4,
  "vscode": {
   "interpreter": {
    "hash": "2869182d13112d363cbe6084b3f075f14840b457e6306984fee77bf1902bea9d"
   }
  }
 },
 "nbformat": 4,
 "nbformat_minor": 2
}
